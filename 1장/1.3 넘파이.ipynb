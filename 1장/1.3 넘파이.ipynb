{
 "cells": [
  {
   "cell_type": "code",
   "execution_count": 1,
   "id": "2a1e69cd-ad8f-461e-89a5-97bc0763632d",
   "metadata": {},
   "outputs": [],
   "source": [
    "import numpy as np"
   ]
  },
  {
   "cell_type": "code",
   "execution_count": 6,
   "id": "e8db007a-c109-4663-a653-bded5c3153b4",
   "metadata": {
    "scrolled": true
   },
   "outputs": [
    {
     "name": "stdout",
     "output_type": "stream",
     "text": [
      "<class 'list'>\n",
      "<class 'numpy.ndarray'>\n",
      "(3,)\n",
      "<class 'numpy.ndarray'>\n",
      "(2, 3)\n",
      "<class 'numpy.ndarray'>\n",
      "(1, 3)\n"
     ]
    }
   ],
   "source": [
    "list1 = [1,2,3]\n",
    "print(type(list1))\n",
    "\n",
    "array1 = np.array(list1)\n",
    "print(type(array1))  \n",
    "print(array1.shape) \n",
    "\n",
    "array2 = np.array([[1,2,3], [4,5,6]])\n",
    "print(type(array2))  \n",
    "print(array2.shape)  \n",
    "\n",
    "array3 = np.array([[1,2,3]])\n",
    "print(type(array3))  \n",
    "print(array3.shape)  "
   ]
  },
  {
   "cell_type": "code",
   "execution_count": 10,
   "id": "27fb8237-250b-4349-9af5-d4f7c8aedb31",
   "metadata": {},
   "outputs": [
    {
     "name": "stdout",
     "output_type": "stream",
     "text": [
      "array1: 1차원, array2: 2차원  array3: 2차원\n"
     ]
    }
   ],
   "source": [
    "print(f\"array1: {array1.ndim}차원, array2: {array2.ndim}차원  array3: {array3.ndim}차원\")"
   ]
  },
  {
   "cell_type": "markdown",
   "id": "c4e53e66-d7c2-4383-bd4c-e4e72b1ace01",
   "metadata": {},
   "source": [
    "## ndarray의 데이터 타입"
   ]
  },
  {
   "cell_type": "code",
   "execution_count": 13,
   "id": "ff871060-24b6-476f-ad72-a6a3400c9427",
   "metadata": {},
   "outputs": [
    {
     "name": "stdout",
     "output_type": "stream",
     "text": [
      "<class 'list'>\n",
      "<class 'numpy.ndarray'>\n",
      "[1 2 3] int64\n"
     ]
    }
   ],
   "source": [
    "list1 = [1,2,3]\n",
    "print(type(list1))\n",
    "\n",
    "array1 = np.array(list1)\n",
    "print(type(array1))  \n",
    "print(array1, array1.dtype)  # 요소의 데이터 타입 "
   ]
  },
  {
   "cell_type": "code",
   "execution_count": 16,
   "id": "5c34231d-dd0b-4d1a-96cb-b125b807fc27",
   "metadata": {},
   "outputs": [
    {
     "name": "stdout",
     "output_type": "stream",
     "text": [
      "['1' '2' 'test'] <U21\n",
      "[1. 2. 3.] float64\n"
     ]
    }
   ],
   "source": [
    "list2 = [1,2,'test']\n",
    "array2 = np.array(list2)\n",
    "print(array2, array2.dtype)  # 요소의 데이터 타입 \n",
    "\n",
    "list3 = [1,2,3.0]\n",
    "array3 = np.array(list3)\n",
    "print(array3, array3.dtype)  # 요소의 데이터 타입 "
   ]
  },
  {
   "cell_type": "code",
   "execution_count": 22,
   "id": "09729da9-c5f8-47cd-8b04-af9e21df4342",
   "metadata": {},
   "outputs": [
    {
     "name": "stdout",
     "output_type": "stream",
     "text": [
      "[1. 2. 3.] float64\n",
      "[1 2 3] int32\n",
      "[1 2 3] int32\n"
     ]
    }
   ],
   "source": [
    "array_int = np.array([1, 2, 3])\n",
    "array_float = array_int.astype(np.float64)\n",
    "print(array_float, array_float.dtype)\n",
    "\n",
    "array_int1 = array_float.astype(np.int32)\n",
    "print(array_int1, array_int1.dtype)\n",
    "\n",
    "array_float1 = np.array([1.1, 2.1, 3.1])\n",
    "array_int2 = array_float1.astype(np.int32)\n",
    "print(array_int2, array_int2.dtype)"
   ]
  },
  {
   "cell_type": "markdown",
   "id": "dfb10154-9f84-432a-a3fe-cf4e245e6d7d",
   "metadata": {},
   "source": [
    "## ndarray를 편리하게 생성하기 - arange, zeros, ones"
   ]
  },
  {
   "cell_type": "code",
   "execution_count": 27,
   "id": "77cdbb2b-2f21-43a6-a804-81695a37268e",
   "metadata": {},
   "outputs": [
    {
     "name": "stdout",
     "output_type": "stream",
     "text": [
      "[0 1 2 3 4 5 6 7 8 9]\n",
      "int64 (10,)\n"
     ]
    }
   ],
   "source": [
    "seq_arr = np.arange(10)\n",
    "print(seq_arr)\n",
    "print(seq_arr.dtype, seq_arr.shape)"
   ]
  },
  {
   "cell_type": "code",
   "execution_count": 31,
   "id": "71e228ba-cf31-4d31-9c60-b98de654b2ab",
   "metadata": {},
   "outputs": [
    {
     "name": "stdout",
     "output_type": "stream",
     "text": [
      "[[0 0]\n",
      " [0 0]\n",
      " [0 0]]\n",
      "int64 (3, 2)\n"
     ]
    }
   ],
   "source": [
    "zero_arr = np.zeros((3, 2), dtype='int64')\n",
    "print(zero_arr)\n",
    "print(zero_arr.dtype, zero_arr.shape)"
   ]
  },
  {
   "cell_type": "code",
   "execution_count": 40,
   "id": "0f54b55a-51db-4b08-972e-672980a7fc1d",
   "metadata": {},
   "outputs": [
    {
     "name": "stdout",
     "output_type": "stream",
     "text": [
      "[[1 1]\n",
      " [1 1]\n",
      " [1 1]]\n",
      "int32 (3, 2)\n"
     ]
    }
   ],
   "source": [
    "one_arr = np.ones((3, 2), dtype='int32')\n",
    "print(one_arr)\n",
    "print(one_arr.dtype, one_arr.shape)"
   ]
  },
  {
   "cell_type": "markdown",
   "id": "86ae3e52-a803-471c-b878-73639a19bbad",
   "metadata": {},
   "source": [
    "## ndarray의 차원과 크기를 변경하는 reshape"
   ]
  },
  {
   "cell_type": "markdown",
   "id": "5cc093a2-ea7d-4727-aade-2396696e3ca5",
   "metadata": {},
   "source": [
    "#### array1 = np.arange(10)\n",
    "print(\"array1: \", array1)\n",
    "\n",
    "# (5, 2) shape로 변환\n",
    "array2 = array1.reshape(5, 2)\n",
    "print(\"array2: \", array2)\n",
    "\n",
    "# (2, 5) shape로 변환 \n",
    "array3 = array1.reshape(2, 5)\n",
    "print(\"array3: \", array3)"
   ]
  },
  {
   "cell_type": "code",
   "execution_count": 52,
   "id": "a0fbf874-b5d2-4669-aca4-2698612ac969",
   "metadata": {},
   "outputs": [
    {
     "name": "stdout",
     "output_type": "stream",
     "text": [
      "array1:  [0 1 2 3 4 5 6 7 8 9]\n",
      "array2:  [[0 1]\n",
      " [2 3]\n",
      " [4 5]\n",
      " [6 7]\n",
      " [8 9]]\n",
      "array3:  [[0 1 2 3 4]\n",
      " [5 6 7 8 9]]\n"
     ]
    }
   ],
   "source": [
    "array1 = np.arange(10)\n",
    "print(\"array1: \", array1)\n",
    "\n",
    "# (5, 2) shape로 변환 -1은 가변인자\n",
    "array2 = array1.reshape(-1, 2)\n",
    "print(\"array2: \", array2)\n",
    "\n",
    "# (2, 5) shape로 변환 -1은 가변인자 \n",
    "array3 = array1.reshape(2, -1)\n",
    "print(\"array3: \", array3)"
   ]
  },
  {
   "cell_type": "code",
   "execution_count": 59,
   "id": "03aae1e1-3636-4162-a5c9-7572a9c52279",
   "metadata": {},
   "outputs": [
    {
     "ename": "ValueError",
     "evalue": "cannot reshape array of size 10 into shape (4)",
     "output_type": "error",
     "traceback": [
      "\u001b[0;31m---------------------------------------------------------------------------\u001b[0m",
      "\u001b[0;31mValueError\u001b[0m                                Traceback (most recent call last)",
      "Cell \u001b[0;32mIn[59], line 2\u001b[0m\n\u001b[1;32m      1\u001b[0m array1 \u001b[38;5;241m=\u001b[39m np\u001b[38;5;241m.\u001b[39marange(\u001b[38;5;241m10\u001b[39m)\n\u001b[0;32m----> 2\u001b[0m array4 \u001b[38;5;241m=\u001b[39m \u001b[43marray1\u001b[49m\u001b[38;5;241;43m.\u001b[39;49m\u001b[43mreshape\u001b[49m\u001b[43m(\u001b[49m\u001b[38;5;241;43m-\u001b[39;49m\u001b[38;5;241;43m1\u001b[39;49m\u001b[43m,\u001b[49m\u001b[43m \u001b[49m\u001b[38;5;241;43m4\u001b[39;49m\u001b[43m)\u001b[49m\n",
      "\u001b[0;31mValueError\u001b[0m: cannot reshape array of size 10 into shape (4)"
     ]
    }
   ],
   "source": [
    "array1 = np.arange(10)\n",
    "array4 = array1.reshape(-1, 4)"
   ]
  },
  {
   "cell_type": "code",
   "execution_count": 72,
   "id": "d3a37a71-43fa-4e82-819e-9e97cf9bacec",
   "metadata": {},
   "outputs": [
    {
     "name": "stdout",
     "output_type": "stream",
     "text": [
      "array3d: \n",
      " [[[0, 1], [2, 3]], [[4, 5], [6, 7]]]\n",
      "array2d: \n",
      " [[0], [1], [2], [3], [4], [5], [6], [7]]\n"
     ]
    }
   ],
   "source": [
    "array1 = np.arange(8)\n",
    "array3d = array1.reshape((2, 2, 2))\n",
    "print(\"array3d: \\n\", array3d.tolist())\n",
    "\n",
    "# 3차원 ndarray를 2차원으로\n",
    "array2d = array3d.reshape((-1, 1))\n",
    "print(\"array2d: \\n\", array2d.tolist())"
   ]
  },
  {
   "cell_type": "markdown",
   "id": "8572c754-a5c6-41fc-9725-557e05c7ba49",
   "metadata": {},
   "source": [
    "## 넘파이 ndarray의 데이터 세트 선택하기 - indexing"
   ]
  },
  {
   "cell_type": "code",
   "execution_count": 78,
   "id": "dabf13d0-af61-4bb6-8471-1151bce58c5d",
   "metadata": {},
   "outputs": [
    {
     "name": "stdout",
     "output_type": "stream",
     "text": [
      "array1:  [1 2 3 4 5 6 7 8 9]\n",
      "value: 3\n",
      "<class 'numpy.int64'>\n"
     ]
    }
   ],
   "source": [
    "array1 = np.arange(start=1, stop=10)\n",
    "print(\"array1: \", array1)\n",
    "\n",
    "value = array1[2]\n",
    "print(f\"value: {value}\")\n",
    "print(type(value))"
   ]
  },
  {
   "cell_type": "code",
   "execution_count": 81,
   "id": "02327dbc-b3da-4e43-8c98-67422302b43c",
   "metadata": {},
   "outputs": [
    {
     "name": "stdout",
     "output_type": "stream",
     "text": [
      "맨 뒤의 값: 9 , 맨 뒤에서 두번째 값: 8\n"
     ]
    }
   ],
   "source": [
    "print(f\"맨 뒤의 값: {array1[-1]}\", f\", 맨 뒤에서 두번째 값: {array1[-2]}\")"
   ]
  },
  {
   "cell_type": "code",
   "execution_count": 85,
   "id": "7a808655-8cd6-48e1-b60f-d5dca390218a",
   "metadata": {},
   "outputs": [
    {
     "name": "stdout",
     "output_type": "stream",
     "text": [
      "(row=0, col=0) index 가리키는 값:  1\n",
      "(row=0, col=1) index 가리키는 값:  2\n",
      "(row=0, col=2) index 가리키는 값:  3\n",
      "(row=1, col=0) index 가리키는 값:  4\n",
      "(row=1, col=1) index 가리키는 값:  5\n",
      "(row=1, col=2) index 가리키는 값:  6\n",
      "(row=2, col=0) index 가리키는 값:  7\n",
      "(row=2, col=1) index 가리키는 값:  8\n",
      "(row=2, col=2) index 가리키는 값:  9\n"
     ]
    }
   ],
   "source": [
    "array2d = array1.reshape(3, 3)\n",
    "for i in range(len(array2d)):\n",
    "    for j in range(len(array2d[0])):\n",
    "        print(f\"(row={i}, col={j}) index 가리키는 값: \", array2d[i,j])"
   ]
  },
  {
   "cell_type": "code",
   "execution_count": 89,
   "id": "166ad810-3157-493e-bae8-35e6d01f63c4",
   "metadata": {},
   "outputs": [
    {
     "name": "stdout",
     "output_type": "stream",
     "text": [
      "[1 2 3]\n",
      "[4 5 6 7 8 9]\n",
      "[1 2 3 4 5 6 7 8 9]\n"
     ]
    }
   ],
   "source": [
    "array4 = array1[:3]\n",
    "print(array4)\n",
    "array5 = array1[3:]\n",
    "print(array5)\n",
    "array6 = array1[:]\n",
    "print(array6)"
   ]
  },
  {
   "cell_type": "code",
   "execution_count": 93,
   "id": "c662630e-9e79-4846-b2b3-31e6cfef38c9",
   "metadata": {},
   "outputs": [
    {
     "name": "stdout",
     "output_type": "stream",
     "text": [
      "array2d[0:2, 0:2]: \n",
      " [[1 2]\n",
      " [4 5]]\n",
      "array2d[1:3, 0:3]: \n",
      " [[4 5 6]\n",
      " [7 8 9]]\n"
     ]
    }
   ],
   "source": [
    "print(\"array2d[0:2, 0:2]: \\n\", array2d[0:2, 0:2])\n",
    "print(\"array2d[1:3, 0:3]: \\n\", array2d[1:3, 0:3])"
   ]
  },
  {
   "cell_type": "markdown",
   "id": "41cc2a7d-5736-4734-84ea-545cb6908f84",
   "metadata": {},
   "source": [
    "## 팬시 인덱싱"
   ]
  },
  {
   "cell_type": "code",
   "execution_count": 100,
   "id": "b29b2599-1fad-4802-ae22-ed7e4e553821",
   "metadata": {},
   "outputs": [
    {
     "name": "stdout",
     "output_type": "stream",
     "text": [
      "Requirement already satisfied: icecream in /Users/lyujaejeong/opt/anaconda3/lib/python3.13/site-packages (2.1.8)\n",
      "Requirement already satisfied: colorama>=0.3.9 in /Users/lyujaejeong/opt/anaconda3/lib/python3.13/site-packages (from icecream) (0.4.6)\n",
      "Requirement already satisfied: pygments>=2.2.0 in /Users/lyujaejeong/opt/anaconda3/lib/python3.13/site-packages (from icecream) (2.19.1)\n",
      "Requirement already satisfied: executing>=2.1.0 in /Users/lyujaejeong/opt/anaconda3/lib/python3.13/site-packages (from icecream) (2.2.1)\n",
      "Requirement already satisfied: asttokens>=2.0.1 in /Users/lyujaejeong/opt/anaconda3/lib/python3.13/site-packages (from icecream) (3.0.0)\n"
     ]
    }
   ],
   "source": [
    "!pip install icecream\n",
    "from icecream import ic"
   ]
  },
  {
   "cell_type": "code",
   "execution_count": 102,
   "id": "2c17bdf7-e94f-405f-9c64-e68ad67a6092",
   "metadata": {},
   "outputs": [
    {
     "name": "stderr",
     "output_type": "stream",
     "text": [
      "\u001b[38;5;247mic\u001b[39m\u001b[38;5;245m|\u001b[39m\u001b[38;5;245m \u001b[39m\u001b[38;5;247marray2d\u001b[39m\u001b[38;5;245m:\u001b[39m\u001b[38;5;245m \u001b[39m\u001b[38;5;247marray\u001b[39m\u001b[38;5;245m(\u001b[39m\u001b[38;5;245m[\u001b[39m\u001b[38;5;245m[\u001b[39m\u001b[38;5;36m1\u001b[39m\u001b[38;5;245m,\u001b[39m\u001b[38;5;245m \u001b[39m\u001b[38;5;36m2\u001b[39m\u001b[38;5;245m,\u001b[39m\u001b[38;5;245m \u001b[39m\u001b[38;5;36m3\u001b[39m\u001b[38;5;245m]\u001b[39m\u001b[38;5;245m,\u001b[39m\n",
      "\u001b[38;5;245m                    \u001b[39m\u001b[38;5;245m[\u001b[39m\u001b[38;5;36m4\u001b[39m\u001b[38;5;245m,\u001b[39m\u001b[38;5;245m \u001b[39m\u001b[38;5;36m5\u001b[39m\u001b[38;5;245m,\u001b[39m\u001b[38;5;245m \u001b[39m\u001b[38;5;36m6\u001b[39m\u001b[38;5;245m]\u001b[39m\u001b[38;5;245m,\u001b[39m\n",
      "\u001b[38;5;245m                    \u001b[39m\u001b[38;5;245m[\u001b[39m\u001b[38;5;36m7\u001b[39m\u001b[38;5;245m,\u001b[39m\u001b[38;5;245m \u001b[39m\u001b[38;5;36m8\u001b[39m\u001b[38;5;245m,\u001b[39m\u001b[38;5;245m \u001b[39m\u001b[38;5;36m9\u001b[39m\u001b[38;5;245m]\u001b[39m\u001b[38;5;245m]\u001b[39m\u001b[38;5;245m)\u001b[39m\n",
      "\u001b[38;5;247mic\u001b[39m\u001b[38;5;245m|\u001b[39m\u001b[38;5;245m \u001b[39m\u001b[38;5;247marray2d\u001b[39m\u001b[38;5;245m[\u001b[39m\u001b[38;5;245m[\u001b[39m\u001b[38;5;36m0\u001b[39m\u001b[38;5;245m,\u001b[39m\u001b[38;5;36m1\u001b[39m\u001b[38;5;245m]\u001b[39m\u001b[38;5;245m,\u001b[39m\u001b[38;5;245m \u001b[39m\u001b[38;5;36m2\u001b[39m\u001b[38;5;245m]\u001b[39m\u001b[38;5;245m:\u001b[39m\u001b[38;5;245m \u001b[39m\u001b[38;5;247marray\u001b[39m\u001b[38;5;245m(\u001b[39m\u001b[38;5;245m[\u001b[39m\u001b[38;5;36m3\u001b[39m\u001b[38;5;245m,\u001b[39m\u001b[38;5;245m \u001b[39m\u001b[38;5;36m6\u001b[39m\u001b[38;5;245m]\u001b[39m\u001b[38;5;245m)\u001b[39m\n",
      "\u001b[38;5;247mic\u001b[39m\u001b[38;5;245m|\u001b[39m\u001b[38;5;245m \u001b[39m\u001b[38;5;247marray2d\u001b[39m\u001b[38;5;245m[\u001b[39m\u001b[38;5;245m[\u001b[39m\u001b[38;5;36m0\u001b[39m\u001b[38;5;245m,\u001b[39m\u001b[38;5;36m1\u001b[39m\u001b[38;5;245m]\u001b[39m\u001b[38;5;245m,\u001b[39m\u001b[38;5;245m \u001b[39m\u001b[38;5;36m0\u001b[39m\u001b[38;5;245m:\u001b[39m\u001b[38;5;36m2\u001b[39m\u001b[38;5;245m]\u001b[39m\u001b[38;5;245m:\u001b[39m\u001b[38;5;245m \u001b[39m\u001b[38;5;247marray\u001b[39m\u001b[38;5;245m(\u001b[39m\u001b[38;5;245m[\u001b[39m\u001b[38;5;245m[\u001b[39m\u001b[38;5;36m1\u001b[39m\u001b[38;5;245m,\u001b[39m\u001b[38;5;245m \u001b[39m\u001b[38;5;36m2\u001b[39m\u001b[38;5;245m]\u001b[39m\u001b[38;5;245m,\u001b[39m\n",
      "\u001b[38;5;245m                                \u001b[39m\u001b[38;5;245m[\u001b[39m\u001b[38;5;36m4\u001b[39m\u001b[38;5;245m,\u001b[39m\u001b[38;5;245m \u001b[39m\u001b[38;5;36m5\u001b[39m\u001b[38;5;245m]\u001b[39m\u001b[38;5;245m]\u001b[39m\u001b[38;5;245m)\u001b[39m\n"
     ]
    },
    {
     "data": {
      "text/plain": [
       "array([[1, 2],\n",
       "       [4, 5]])"
      ]
     },
     "execution_count": 102,
     "metadata": {},
     "output_type": "execute_result"
    }
   ],
   "source": [
    "ic(array2d)\n",
    "ic(array2d[[0,1], 2])\n",
    "ic(array2d[[0,1], 0:2])"
   ]
  },
  {
   "cell_type": "markdown",
   "id": "b79c5cd9-947a-4536-8325-cfdd8ccbfc4e",
   "metadata": {},
   "source": [
    "## 불린 인덱싱"
   ]
  },
  {
   "cell_type": "code",
   "execution_count": 104,
   "id": "8d731199-b1b7-4e82-a9f6-84521e999580",
   "metadata": {},
   "outputs": [
    {
     "name": "stdout",
     "output_type": "stream",
     "text": [
      "array1d: [1 2 3 4 5 6 7 8 9]\n"
     ]
    }
   ],
   "source": [
    "array1d = np.arange(start=1, stop=10)\n",
    "print(f\"array1d: {array1d}\")"
   ]
  },
  {
   "cell_type": "code",
   "execution_count": 105,
   "id": "d2c985ec-c944-46a6-a451-c920c823514b",
   "metadata": {},
   "outputs": [
    {
     "data": {
      "text/plain": [
       "array([False, False, False, False, False,  True,  True,  True,  True])"
      ]
     },
     "execution_count": 105,
     "metadata": {},
     "output_type": "execute_result"
    }
   ],
   "source": [
    "array1d > 5"
   ]
  },
  {
   "cell_type": "code",
   "execution_count": 106,
   "id": "620eedd9-6780-46e2-ac96-c12b062dee54",
   "metadata": {},
   "outputs": [
    {
     "name": "stdout",
     "output_type": "stream",
     "text": [
      "[False False False False False  True  True  True  True] <class 'numpy.ndarray'> (9,)\n"
     ]
    }
   ],
   "source": [
    "val = array1d >5\n",
    "print(val, type(val), val.shape)"
   ]
  },
  {
   "cell_type": "code",
   "execution_count": 108,
   "id": "52f21d2e-43b5-464d-9478-b4bfda0f6e1c",
   "metadata": {},
   "outputs": [
    {
     "data": {
      "text/plain": [
       "array([6, 7, 8, 9])"
      ]
     },
     "execution_count": 108,
     "metadata": {},
     "output_type": "execute_result"
    }
   ],
   "source": [
    "# 불린 인덱스로 필터링 한 결과\n",
    "array1d[array1d > 5]"
   ]
  },
  {
   "cell_type": "markdown",
   "id": "d7f7e4c7-118b-454e-94ab-8c2a9078786c",
   "metadata": {},
   "source": [
    "## sort"
   ]
  },
  {
   "cell_type": "code",
   "execution_count": 115,
   "id": "01a079c0-46ee-4bc3-8854-9f22715281a1",
   "metadata": {},
   "outputs": [
    {
     "name": "stdout",
     "output_type": "stream",
     "text": [
      "original_arr : [3 1 9 5]\n",
      "sorted_arr: [1 3 5 9]\n",
      "np.sort() 수행 후 원본 배열: [3 1 9 5]\n",
      "sorted_arr2: None\n",
      "np.sort() 수행 후 원본 배열: [1 3 5 9]\n"
     ]
    }
   ],
   "source": [
    "original_arr = np.array([3, 1, 9, 5])\n",
    "print(f\"original_arr : {original_arr}\")\n",
    "\n",
    "# np.sort() 로 정렬\n",
    "sorted_arr = np.sort(original_arr)\n",
    "print(f\"sorted_arr: {sorted_arr}\")\n",
    "print(f\"np.sort() 수행 후 원본 배열: {original_arr}\")\n",
    "\n",
    "# ndarray.sort() 로 정렬\n",
    "sorted_arr2 = original_arr.sort()\n",
    "print(f\"sorted_arr2: {sorted_arr2}\")\n",
    "print(f\"np.sort() 수행 후 원본 배열: {original_arr}\")"
   ]
  },
  {
   "cell_type": "code",
   "execution_count": 116,
   "id": "8a8c026b-7069-47bf-91e6-776233d05fc0",
   "metadata": {},
   "outputs": [
    {
     "name": "stdout",
     "output_type": "stream",
     "text": [
      "내림차순 정렬 한 배열:  [9 5 3 1]\n"
     ]
    }
   ],
   "source": [
    "# 내림차순 정렬\n",
    "sorted_desc_arr = np.sort(original_arr)[::-1]\n",
    "print(\"내림차순 정렬 한 배열: \", sorted_desc_arr)"
   ]
  },
  {
   "cell_type": "code",
   "execution_count": 123,
   "id": "8ffb1870-fbef-482e-8c35-d40618bae01a",
   "metadata": {},
   "outputs": [
    {
     "name": "stdout",
     "output_type": "stream",
     "text": [
      "array2d: \n",
      " [[ 8 12]\n",
      " [ 7  1]] (2, 2)\n",
      "[[ 7  1]\n",
      " [ 8 12]]\n",
      "[[ 8 12]\n",
      " [ 1  7]]\n"
     ]
    }
   ],
   "source": [
    "# axis를 적용해서 정렬\n",
    "array2d = np.array([[8, 12], [7,1]])\n",
    "print(\"array2d: \\n\", array2d, array2d.shape)\n",
    "\n",
    "# 행으로 정렬\n",
    "row_sorted_arr = np.sort(array2d, axis=0)\n",
    "print(row_sorted_arr)\n",
    "\n",
    "# 열로 정렬\n",
    "col_sorted_arr = np.sort(array2d, axis=1)\n",
    "print(col_sorted_arr)"
   ]
  },
  {
   "cell_type": "code",
   "execution_count": 128,
   "id": "8e8fac12-5157-4c4b-92df-ac48cfc236be",
   "metadata": {},
   "outputs": [
    {
     "name": "stdout",
     "output_type": "stream",
     "text": [
      "[1 0 3 2]\n"
     ]
    }
   ],
   "source": [
    "# 정렬 행렬의 인덱스 반환\n",
    "arr = np.array([3, 1, 9, 5])\n",
    "arg_sorted_arr = np.argsort(arr)\n",
    "print(arg_sorted_arr)"
   ]
  },
  {
   "cell_type": "code",
   "execution_count": 130,
   "id": "0a16f7ae-761a-4d1c-86f6-c6cf3dd23665",
   "metadata": {},
   "outputs": [
    {
     "data": {
      "text/plain": [
       "array(['의정', '승호', '우정', '국지', '재정'], dtype='<U2')"
      ]
     },
     "execution_count": 130,
     "metadata": {},
     "output_type": "execute_result"
    }
   ],
   "source": [
    "# 점수 오름 차순으로 이름 정렬\n",
    "name_array = np.array(['의정', '우정', '국지', '재정', '승호'])\n",
    "score_array = np.array([78, 84, 88, 95, 80])\n",
    "index_arr = np.argsort(score_array)\n",
    "name_array[index_arr]"
   ]
  },
  {
   "cell_type": "markdown",
   "id": "ef0aaff9-4e27-44f1-9ff0-2b2374d9141c",
   "metadata": {},
   "source": [
    "## 내적과 전치행렬"
   ]
  },
  {
   "cell_type": "code",
   "execution_count": 132,
   "id": "2f33d479-9f11-4bdb-868f-861c5ea47d82",
   "metadata": {},
   "outputs": [
    {
     "name": "stdout",
     "output_type": "stream",
     "text": [
      "[[ 40  46]\n",
      " [ 94 109]]\n"
     ]
    }
   ],
   "source": [
    "# 행렬 내적\n",
    "a = np.array([[1, 2, 3], [4, 5, 6]])\n",
    "b = np.array([[4, 5], [6, 7], [8, 9]])\n",
    "c = np.dot(a, b)\n",
    "print(c)"
   ]
  },
  {
   "cell_type": "code",
   "execution_count": 134,
   "id": "64d1ada6-46c3-4d94-997e-1bd3a7113968",
   "metadata": {},
   "outputs": [
    {
     "name": "stdout",
     "output_type": "stream",
     "text": [
      "[[1 3]\n",
      " [2 4]]\n"
     ]
    }
   ],
   "source": [
    "d = np.array([[1,2], [3,4]])\n",
    "e = np.transpose(d)\n",
    "print(e)"
   ]
  },
  {
   "cell_type": "code",
   "execution_count": null,
   "id": "97fd2b0a-a036-4a9e-a952-91f762ced3aa",
   "metadata": {},
   "outputs": [],
   "source": []
  },
  {
   "cell_type": "code",
   "execution_count": null,
   "id": "9cdca3b0-fd13-48a6-bd1e-34922d0a5850",
   "metadata": {},
   "outputs": [],
   "source": []
  },
  {
   "cell_type": "code",
   "execution_count": null,
   "id": "59642aae-771f-4140-826a-c8eb0a0014bb",
   "metadata": {},
   "outputs": [],
   "source": []
  },
  {
   "cell_type": "code",
   "execution_count": null,
   "id": "b29c71b9-f0cf-42b4-854d-d3d0073fba4f",
   "metadata": {},
   "outputs": [],
   "source": []
  },
  {
   "cell_type": "code",
   "execution_count": null,
   "id": "41bd5219-b1a4-4e5b-bc78-0edbc2b6ffbb",
   "metadata": {},
   "outputs": [],
   "source": []
  },
  {
   "cell_type": "code",
   "execution_count": null,
   "id": "4e537250-529f-4a5c-acbb-23e8c4b57910",
   "metadata": {},
   "outputs": [],
   "source": []
  },
  {
   "cell_type": "code",
   "execution_count": null,
   "id": "33087828-913f-446f-a811-77becd45422b",
   "metadata": {},
   "outputs": [],
   "source": []
  },
  {
   "cell_type": "code",
   "execution_count": null,
   "id": "a961a9a3-cdab-466c-922a-6dab64b05df7",
   "metadata": {},
   "outputs": [],
   "source": []
  },
  {
   "cell_type": "code",
   "execution_count": null,
   "id": "cd147820-1b23-4f20-bc3d-1602e24aacf3",
   "metadata": {},
   "outputs": [],
   "source": []
  },
  {
   "cell_type": "code",
   "execution_count": null,
   "id": "05e6e573-6009-46c5-9b12-d8bc2e0fb67f",
   "metadata": {},
   "outputs": [],
   "source": []
  },
  {
   "cell_type": "code",
   "execution_count": null,
   "id": "4655ee2e-0ad3-4678-b946-c49d8847bde5",
   "metadata": {},
   "outputs": [],
   "source": []
  },
  {
   "cell_type": "code",
   "execution_count": null,
   "id": "2e2ab459-dc8f-47a1-a405-5d7021daee21",
   "metadata": {},
   "outputs": [],
   "source": []
  }
 ],
 "metadata": {
  "kernelspec": {
   "display_name": "Python 3 (ipykernel)",
   "language": "python",
   "name": "python3"
  },
  "language_info": {
   "codemirror_mode": {
    "name": "ipython",
    "version": 3
   },
   "file_extension": ".py",
   "mimetype": "text/x-python",
   "name": "python",
   "nbconvert_exporter": "python",
   "pygments_lexer": "ipython3",
   "version": "3.13.5"
  }
 },
 "nbformat": 4,
 "nbformat_minor": 5
}
