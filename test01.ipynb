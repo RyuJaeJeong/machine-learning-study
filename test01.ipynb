{
 "cells": [
  {
   "cell_type": "code",
   "execution_count": 1,
   "id": "1895788d-6374-4bee-afae-f93ccfe29086",
   "metadata": {},
   "outputs": [],
   "source": [
    "# import \n",
    "import numpy as np\n",
    "import pandas as pd\n",
    "import sklearn"
   ]
  },
  {
   "cell_type": "code",
   "execution_count": 2,
   "id": "f671b8bc-c483-4a1c-b018-ce489a378b91",
   "metadata": {},
   "outputs": [
    {
     "data": {
      "text/plain": [
       "'1.7.2'"
      ]
     },
     "execution_count": 2,
     "metadata": {},
     "output_type": "execute_result"
    }
   ],
   "source": [
    "sklearn.__version__"
   ]
  },
  {
   "cell_type": "code",
   "execution_count": 3,
   "id": "4634d693-28ca-472c-8731-1325c54937e2",
   "metadata": {},
   "outputs": [
    {
     "name": "stdout",
     "output_type": "stream",
     "text": [
      "Hello, world\n"
     ]
    }
   ],
   "source": [
    "print(\"Hello, world\")"
   ]
  },
  {
   "cell_type": "code",
   "execution_count": 4,
   "id": "0a476363-7544-4ca0-9c9a-a869976a2e59",
   "metadata": {},
   "outputs": [],
   "source": [
    "import xgboost"
   ]
  },
  {
   "cell_type": "code",
   "execution_count": 5,
   "id": "3f639434-060b-4e2b-8234-c4c514a22302",
   "metadata": {},
   "outputs": [
    {
     "data": {
      "text/plain": [
       "'3.0.1'"
      ]
     },
     "execution_count": 5,
     "metadata": {},
     "output_type": "execute_result"
    }
   ],
   "source": [
    "xgboost.__version__"
   ]
  },
  {
   "cell_type": "code",
   "execution_count": 6,
   "id": "9871b4ad-dd36-495c-bf82-2a069e2dc533",
   "metadata": {},
   "outputs": [],
   "source": [
    "import lightgbm"
   ]
  },
  {
   "cell_type": "code",
   "execution_count": 7,
   "id": "97ecb4d6-085c-470c-937f-075773a86e9d",
   "metadata": {},
   "outputs": [
    {
     "data": {
      "text/plain": [
       "'3.3.2'"
      ]
     },
     "execution_count": 7,
     "metadata": {},
     "output_type": "execute_result"
    }
   ],
   "source": [
    "lightgbm.__version__"
   ]
  },
  {
   "cell_type": "code",
   "execution_count": 8,
   "id": "3659779d-7b4f-4de0-a8d8-48d3485ff124",
   "metadata": {},
   "outputs": [
    {
     "name": "stdout",
     "output_type": "stream",
     "text": [
      "hello, world2\n"
     ]
    }
   ],
   "source": [
    "print(\"hello, world2\")"
   ]
  },
  {
   "cell_type": "markdown",
   "id": "24d36256-0ae2-44e3-ad3f-00e68b6f60d1",
   "metadata": {},
   "source": [
    "# 제목임"
   ]
  },
  {
   "cell_type": "markdown",
   "id": "cf2783d0-429f-4124-8603-e4fa301433d3",
   "metadata": {},
   "source": [
    "**강조 텍스트 임**"
   ]
  },
  {
   "cell_type": "markdown",
   "id": "ed72e8aa-1db8-4700-80c0-57c308a8ea86",
   "metadata": {},
   "source": [
    "* ㄱㄱㄱ\n",
    "* ㄴㄴㄴ"
   ]
  },
  {
   "cell_type": "code",
   "execution_count": null,
   "id": "8c2dec8a-db44-4cfe-b1e4-c21febc7048b",
   "metadata": {},
   "outputs": [],
   "source": []
  }
 ],
 "metadata": {
  "kernelspec": {
   "display_name": "Python 3 (ipykernel)",
   "language": "python",
   "name": "python3"
  },
  "language_info": {
   "codemirror_mode": {
    "name": "ipython",
    "version": 3
   },
   "file_extension": ".py",
   "mimetype": "text/x-python",
   "name": "python",
   "nbconvert_exporter": "python",
   "pygments_lexer": "ipython3",
   "version": "3.13.5"
  }
 },
 "nbformat": 4,
 "nbformat_minor": 5
}
